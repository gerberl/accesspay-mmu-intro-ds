{
 "cells": [
  {
   "cell_type": "markdown",
   "metadata": {
    "toc": "true"
   },
   "source": [
    "# Table of Contents\n",
    " <p><div class=\"lev1 toc-item\"><a href=\"#Loading,-Inspecting,-Getting-Familiarised-with-the-Data\" data-toc-modified-id=\"Loading,-Inspecting,-Getting-Familiarised-with-the-Data-1\"><span class=\"toc-item-num\">1&nbsp;&nbsp;</span>Loading, Inspecting, Getting Familiarised with the Data</a></div><div class=\"lev2 toc-item\"><a href=\"#The-Preamble\" data-toc-modified-id=\"The-Preamble-11\"><span class=\"toc-item-num\">1.1&nbsp;&nbsp;</span>The Preamble</a></div><div class=\"lev2 toc-item\"><a href=\"#Instantiating-and-Quickly-Inspecting-DataFrames\" data-toc-modified-id=\"Instantiating-and-Quickly-Inspecting-DataFrames-12\"><span class=\"toc-item-num\">1.2&nbsp;&nbsp;</span>Instantiating and Quickly Inspecting DataFrames</a></div><div class=\"lev2 toc-item\"><a href=\"#Schema,-Structure,-Datatypes,-Distribution\" data-toc-modified-id=\"Schema,-Structure,-Datatypes,-Distribution-13\"><span class=\"toc-item-num\">1.3&nbsp;&nbsp;</span>Schema, Structure, Datatypes, Distribution</a></div><div class=\"lev2 toc-item\"><a href=\"#numpy-Is-Behind-The-Scenes\" data-toc-modified-id=\"numpy-Is-Behind-The-Scenes-14\"><span class=\"toc-item-num\">1.4&nbsp;&nbsp;</span><code>numpy</code> Is Behind The Scenes</a></div><div class=\"lev2 toc-item\"><a href=\"#Subsetting-Data-On-Row-and-Column-Labels\" data-toc-modified-id=\"Subsetting-Data-On-Row-and-Column-Labels-15\"><span class=\"toc-item-num\">1.5&nbsp;&nbsp;</span>Subsetting Data On Row and Column Labels</a></div><div class=\"lev2 toc-item\"><a href=\"#Size-and-Shape\" data-toc-modified-id=\"Size-and-Shape-16\"><span class=\"toc-item-num\">1.6&nbsp;&nbsp;</span>Size and Shape</a></div><div class=\"lev2 toc-item\"><a href=\"#Boolean-Masks\" data-toc-modified-id=\"Boolean-Masks-17\"><span class=\"toc-item-num\">1.7&nbsp;&nbsp;</span>Boolean Masks</a></div><div class=\"lev2 toc-item\"><a href=\"#Sorting-DataFrames\" data-toc-modified-id=\"Sorting-DataFrames-18\"><span class=\"toc-item-num\">1.8&nbsp;&nbsp;</span>Sorting <code>DataFrame</code>s</a></div><div class=\"lev1 toc-item\"><a href=\"#Exercises\" data-toc-modified-id=\"Exercises-2\"><span class=\"toc-item-num\">2&nbsp;&nbsp;</span>Exercises</a></div><div class=\"lev2 toc-item\"><a href=\"#GapMinder\" data-toc-modified-id=\"GapMinder-21\"><span class=\"toc-item-num\">2.1&nbsp;&nbsp;</span>GapMinder</a></div>"
   ]
  },
  {
   "cell_type": "markdown",
   "metadata": {},
   "source": [
    "# Loading, Inspecting, Getting Familiarised with the Data"
   ]
  },
  {
   "cell_type": "markdown",
   "metadata": {},
   "source": [
    "## The Preamble"
   ]
  },
  {
   "cell_type": "code",
   "execution_count": null,
   "metadata": {},
   "outputs": [],
   "source": [
    "import numpy as np\n",
    "import pandas as pd"
   ]
  },
  {
   "cell_type": "markdown",
   "metadata": {},
   "source": [
    "## Instantiating and Quickly Inspecting DataFrames"
   ]
  },
  {
   "cell_type": "code",
   "execution_count": null,
   "metadata": {},
   "outputs": [],
   "source": [
    "# .read_csv will read a CSV dataset and instantiate a suitable DataFrame\n",
    "# `index_col=0` tells it the first column should be used as the row index\n",
    "states_df = pd.read_csv('../data/area_pop_five_us_states.csv', index_col=0)"
   ]
  },
  {
   "cell_type": "code",
   "execution_count": null,
   "metadata": {},
   "outputs": [],
   "source": [
    "# a DataFrame is a tabular, 2D structure composed of rows and columns\n",
    "# columns and rows are associated to sets of labels (an `Index`)\n",
    "# to address a specific row or column, use its label\n",
    "states_df"
   ]
  },
  {
   "cell_type": "markdown",
   "metadata": {},
   "source": [
    "We make use of a simplified version of the [`gapminder`](https://www.gapminder.org/data/) dataset, which concerns records of population, life expectancy and GDP of countries covering a number of years in the period of 1952 to 2007. The dataset can be downloaded from [here](https://github.com/jennybc/gapminder/blob/master/inst/extdata/gapminder.tsv); more information [here](https://github.com/jennybc/gapminder/). "
   ]
  },
  {
   "cell_type": "code",
   "execution_count": null,
   "metadata": {},
   "outputs": [],
   "source": [
    "# notice that data is tab-separated, hence the argument sep=`\\t`\n",
    "gm_df = pd.read_csv('../data/gapminder.tsv', sep='\\t')"
   ]
  },
  {
   "cell_type": "code",
   "execution_count": null,
   "metadata": {},
   "outputs": [],
   "source": [
    "# a quick look - the top 5 rows by default\n",
    "gm_df.head()"
   ]
  },
  {
   "cell_type": "code",
   "execution_count": null,
   "metadata": {},
   "outputs": [],
   "source": [
    "# show the `n` top rows\n",
    "gm_df.head(13)"
   ]
  },
  {
   "cell_type": "code",
   "execution_count": null,
   "metadata": {},
   "outputs": [],
   "source": [
    "gm_df.sample(5)"
   ]
  },
  {
   "cell_type": "code",
   "execution_count": null,
   "metadata": {},
   "outputs": [],
   "source": [
    "gm_df.tail()"
   ]
  },
  {
   "cell_type": "markdown",
   "metadata": {},
   "source": [
    "## Schema, Structure, Datatypes, Distribution"
   ]
  },
  {
   "cell_type": "code",
   "execution_count": null,
   "metadata": {},
   "outputs": [],
   "source": [
    "gm_df.columns"
   ]
  },
  {
   "cell_type": "code",
   "execution_count": null,
   "metadata": {},
   "outputs": [],
   "source": [
    "gm_df.dtypes"
   ]
  },
  {
   "cell_type": "code",
   "execution_count": null,
   "metadata": {},
   "outputs": [],
   "source": [
    "# columns and some statistics about the data distribution (numeric, by default)\n",
    "gm_df.describe()"
   ]
  },
  {
   "cell_type": "code",
   "execution_count": null,
   "metadata": {},
   "outputs": [],
   "source": [
    "gm_df.describe(include='all')"
   ]
  },
  {
   "cell_type": "markdown",
   "metadata": {},
   "source": [
    "## `numpy` Is Behind The Scenes"
   ]
  },
  {
   "cell_type": "code",
   "execution_count": null,
   "metadata": {},
   "outputs": [],
   "source": [
    "gm_df.values"
   ]
  },
  {
   "cell_type": "markdown",
   "metadata": {},
   "source": [
    "## Subsetting Data On Row and Column Labels"
   ]
  },
  {
   "cell_type": "code",
   "execution_count": null,
   "metadata": {},
   "outputs": [],
   "source": [
    "# `.loc[]` is the preferred method\n",
    "# a quick example of how to select a row based on its label\n",
    "# by default, a single row is returned as `Series` object.\n",
    "# More on `Series` later\n",
    "gm_df.loc[4]"
   ]
  },
  {
   "cell_type": "code",
   "execution_count": null,
   "metadata": {},
   "outputs": [],
   "source": [
    "# a list of labels (containing one element, if you'd like) will produce\n",
    "# a DataFrame as a result\n",
    "gm_df.loc[ [4] ]"
   ]
  },
  {
   "cell_type": "code",
   "execution_count": null,
   "metadata": {},
   "outputs": [],
   "source": [
    "# one can always perform the task into invididual steps and\n",
    "# assign the intermediate results to variables\n",
    "row = gm_df.loc[4]\n",
    "row"
   ]
  },
  {
   "cell_type": "code",
   "execution_count": null,
   "metadata": {},
   "outputs": [],
   "source": [
    "type(row)"
   ]
  },
  {
   "cell_type": "code",
   "execution_count": null,
   "metadata": {},
   "outputs": [],
   "source": [
    "# `[]` can be used as a shortcut notation for `loc[]` when dealing with\n",
    "# columns only\n",
    "# a single column produced by `[]`, identified by its label, is a `Series`\n",
    "gm_df['country'].head()"
   ]
  },
  {
   "cell_type": "code",
   "execution_count": null,
   "metadata": {},
   "outputs": [],
   "source": [
    "gm_df['pop'].head()"
   ]
  },
  {
   "cell_type": "code",
   "execution_count": null,
   "metadata": {},
   "outputs": [],
   "source": [
    "# a subset of columns (producing a DataFrame)\n",
    "gm_df[ [ 'country', 'year' ] ].head()"
   ]
  },
  {
   "cell_type": "code",
   "execution_count": null,
   "metadata": {},
   "outputs": [],
   "source": [
    "# `.loc` expects the indexing to be on rows only or on both rows and columns\n",
    "gm_df.loc[ [4], [ 'country', 'year' ] ]"
   ]
  },
  {
   "cell_type": "code",
   "execution_count": null,
   "metadata": {},
   "outputs": [],
   "source": [
    "# subsetting the smaller, US states dataset\n",
    "states_df.loc['Illinois']"
   ]
  },
  {
   "cell_type": "code",
   "execution_count": null,
   "metadata": {},
   "outputs": [],
   "source": [
    "states_df"
   ]
  },
  {
   "cell_type": "code",
   "execution_count": null,
   "metadata": {},
   "outputs": [],
   "source": [
    "# you can also specify a slice object (a range) of row labels!\n",
    "states_df.loc['California':'Illinois']\n",
    "# equivalent statement...\n",
    "# states_df.loc[slice('California', 'Illinois')]"
   ]
  },
  {
   "cell_type": "code",
   "execution_count": null,
   "metadata": {},
   "outputs": [],
   "source": [
    "# a slice from 'Florida' to the last label\n",
    "# states_df.loc['Florida':, ['pop']]\n",
    "states_df.loc[slice('Florida', None), ['pop']]"
   ]
  },
  {
   "cell_type": "code",
   "execution_count": null,
   "metadata": {},
   "outputs": [],
   "source": [
    "# all rows (an empty range)\n",
    "states_df.loc[:, ['pop']]"
   ]
  },
  {
   "cell_type": "code",
   "execution_count": null,
   "metadata": {},
   "outputs": [],
   "source": [
    "states_df.loc[:, ['pop']]"
   ]
  },
  {
   "cell_type": "code",
   "execution_count": null,
   "metadata": {},
   "outputs": [],
   "source": [
    "states_df.loc['Florida', 'area']"
   ]
  },
  {
   "cell_type": "markdown",
   "metadata": {},
   "source": [
    "## Size and Shape"
   ]
  },
  {
   "cell_type": "code",
   "execution_count": null,
   "metadata": {},
   "outputs": [],
   "source": [
    "len(gm_df)"
   ]
  },
  {
   "cell_type": "code",
   "execution_count": null,
   "metadata": {},
   "outputs": [],
   "source": [
    "gm_df.shape"
   ]
  },
  {
   "cell_type": "code",
   "execution_count": null,
   "metadata": {},
   "outputs": [],
   "source": [
    "gm_df.size"
   ]
  },
  {
   "cell_type": "markdown",
   "metadata": {},
   "source": [
    "## Boolean Masks"
   ]
  },
  {
   "cell_type": "code",
   "execution_count": null,
   "metadata": {},
   "outputs": [],
   "source": [
    "# just like `numpy`\n",
    "states_df['pop'] >= 20"
   ]
  },
  {
   "cell_type": "code",
   "execution_count": null,
   "metadata": {},
   "outputs": [],
   "source": [
    "states_df.loc[ states_df['pop'] >= 20 ]"
   ]
  },
  {
   "cell_type": "code",
   "execution_count": null,
   "metadata": {},
   "outputs": [],
   "source": [
    "# Would you rather work with millions of people?\n",
    "# a quick example of vectorisation\n",
    "states_df.loc[:, 'pop'] * 1000000"
   ]
  },
  {
   "cell_type": "code",
   "execution_count": null,
   "metadata": {},
   "outputs": [],
   "source": [
    "# combining boolean arrays with & and | (use brackets)\n",
    "states_df.loc[ (states_df['pop'] >= 20) & (states_df['area'] >= 500000) ]"
   ]
  },
  {
   "cell_type": "markdown",
   "metadata": {},
   "source": [
    "## Sorting `DataFrame`s"
   ]
  },
  {
   "cell_type": "code",
   "execution_count": null,
   "metadata": {},
   "outputs": [],
   "source": [
    "# states_df.sort_values?"
   ]
  },
  {
   "cell_type": "code",
   "execution_count": null,
   "metadata": {},
   "outputs": [],
   "source": [
    "states_df.sort_values(by='pop', ascending=False)"
   ]
  },
  {
   "cell_type": "code",
   "execution_count": null,
   "metadata": {},
   "outputs": [],
   "source": [
    "# could add `inplace` for modification; otherwise, produces a new DataFrame\n",
    "states_df.sort_values(by='area', ascending=False)"
   ]
  },
  {
   "cell_type": "code",
   "execution_count": null,
   "metadata": {},
   "outputs": [],
   "source": [
    "# sorts the rows based on their index\n",
    "states_df.sort_index(ascending=False)"
   ]
  },
  {
   "cell_type": "code",
   "execution_count": null,
   "metadata": {},
   "outputs": [],
   "source": [
    "states_df"
   ]
  },
  {
   "cell_type": "markdown",
   "metadata": {},
   "source": [
    "# Exercises"
   ]
  },
  {
   "cell_type": "code",
   "execution_count": null,
   "metadata": {},
   "outputs": [],
   "source": [
    "# as a reminder, this is the DataFrame we are working with\n",
    "gm_df.head()"
   ]
  },
  {
   "cell_type": "markdown",
   "metadata": {},
   "source": [
    "## GapMinder"
   ]
  },
  {
   "cell_type": "code",
   "execution_count": null,
   "metadata": {},
   "outputs": [],
   "source": [
    "# select only the observations concerning the year of 1972\n"
   ]
  },
  {
   "cell_type": "code",
   "execution_count": null,
   "metadata": {},
   "outputs": [],
   "source": [
    "# for the query above, how many observations are there?\n"
   ]
  },
  {
   "cell_type": "code",
   "execution_count": null,
   "metadata": {},
   "outputs": [],
   "source": [
    "# select the rows for Brazil only\n"
   ]
  },
  {
   "cell_type": "code",
   "execution_count": null,
   "metadata": {},
   "outputs": [],
   "source": [
    "# what are the years for which observations have been recorded for?\n",
    "# (might require checking the documentation; we are looking here for unique\n",
    "# values...)\n"
   ]
  },
  {
   "cell_type": "code",
   "execution_count": null,
   "metadata": {},
   "outputs": [],
   "source": [
    "# ...and how many?\n"
   ]
  },
  {
   "cell_type": "code",
   "execution_count": null,
   "metadata": {},
   "outputs": [],
   "source": [
    "# what are the top 5 countries, for 2007, with regards to life expectancy?\n"
   ]
  },
  {
   "cell_type": "code",
   "execution_count": null,
   "metadata": {},
   "outputs": [],
   "source": [
    "# select the observations for Asia for the period of 2007\n"
   ]
  },
  {
   "cell_type": "code",
   "execution_count": null,
   "metadata": {},
   "outputs": [],
   "source": [
    "# select the observations for the Americas for the period of 2000 to 2009\n"
   ]
  },
  {
   "cell_type": "code",
   "execution_count": null,
   "metadata": {},
   "outputs": [],
   "source": [
    "# show life expectancy and GDP per capita for Brazil\n"
   ]
  },
  {
   "cell_type": "code",
   "execution_count": null,
   "metadata": {},
   "outputs": [],
   "source": [
    "# (optional) how many observations for each continent? There is a method that\n",
    "# might just allow one to do that job in a single line\n"
   ]
  }
 ],
 "metadata": {
  "kernelspec": {
   "display_name": "Python 3",
   "language": "python",
   "name": "python3"
  },
  "language_info": {
   "codemirror_mode": {
    "name": "ipython",
    "version": 3
   },
   "file_extension": ".py",
   "mimetype": "text/x-python",
   "name": "python",
   "nbconvert_exporter": "python",
   "pygments_lexer": "ipython3",
   "version": "3.7.3"
  },
  "toc": {
   "base_numbering": 1,
   "colors": {
    "hover_highlight": "#DAA520",
    "navigate_num": "#000000",
    "navigate_text": "#333333",
    "running_highlight": "#FF0000",
    "selected_highlight": "#FFD700",
    "sidebar_border": "#EEEEEE",
    "wrapper_background": "#FFFFFF"
   },
   "moveMenuLeft": true,
   "nav_menu": {
    "height": "12px",
    "width": "252px"
   },
   "navigate_menu": true,
   "number_sections": true,
   "sideBar": true,
   "skip_h1_title": false,
   "threshold": 4,
   "title_cell": "Table of Contents",
   "title_sidebar": "Contents",
   "toc_cell": true,
   "toc_position": {},
   "toc_section_display": "block",
   "toc_window_display": false,
   "widenNotebook": false
  }
 },
 "nbformat": 4,
 "nbformat_minor": 2
}
