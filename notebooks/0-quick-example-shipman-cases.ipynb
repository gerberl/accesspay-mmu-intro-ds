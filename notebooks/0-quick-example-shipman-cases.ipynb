{
 "cells": [
  {
   "cell_type": "markdown",
   "metadata": {},
   "source": [
    "# A Quick Example: Some Visualisations on Harold Shipman's Cases"
   ]
  },
  {
   "cell_type": "code",
   "execution_count": null,
   "metadata": {},
   "outputs": [],
   "source": [
    "%matplotlib inline\n",
    "import matplotlib.pyplot as plt\n",
    "import matplotlib as mpl\n",
    "import numpy as np\n",
    "import pandas as pd\n",
    "import seaborn as sns\n",
    "sns.set(style=\"ticks\", color_codes=True)\n",
    "sns.set_context(\"talk\")"
   ]
  },
  {
   "cell_type": "code",
   "execution_count": null,
   "metadata": {},
   "outputs": [],
   "source": [
    "mpl.rcParams['figure.figsize'] = (12*1.5, 6*1.5)"
   ]
  },
  {
   "cell_type": "markdown",
   "metadata": {},
   "source": [
    "## Essentials of Running/Navigating/Editing Notebooks\n",
    "\n",
    "- **command** and **edit** modes.\n",
    "- _command_: affects the structure of the notebook; _edit_: the content of a cell.\n",
    "- `H` gives a key-binding overview for both modes.\n",
    "- `Esc` brings you back from _edit_ to _command_ mode.\n",
    "- `Shift+Enter` evaluates the content of a cell.\n",
    "- `M` makes a cell of the type _Markdown_ (for a lightweight-formatted text); `Y` changes it to code.\n",
    "- `A` create a new cell above the current one; `B`, below.\n",
    "- there was a cheatsheet [here](https://conferences.oreilly.com/jupyter/jup-ny/public/content/jupyter-shortcuts); it seems now to have been placed [here](https://treehouse-code-samples.s3.amazonaws.com/Python/jupyter-shortcuts.pdf).\n",
    "- but there is an overview of the Markdown syntax [here](https://guides.github.com/features/mastering-markdown/)."
   ]
  },
  {
   "cell_type": "markdown",
   "metadata": {},
   "source": [
    "\n",
    "## Links from The Art of Statistics for Shipman's Example\n",
    "\n",
    "* [David Spiegelhalter's GitHub for the book](https://github.com/dspiegel29/ArtofStatistics).\n",
    "\n",
    "* Within Spiegelhalter's area, the resources for age and year of victims are [here](https://github.com/dspiegel29/ArtofStatistics/tree/master/00-1-age-and-year-of-deathofharold-shipmans-victims), and comparable percentages for times of deaths are [here](https://github.com/dspiegel29/ArtofStatistics/tree/master/00-2-shipman-times). The raw datasets, respectively, are [here](https://raw.githubusercontent.com/dspiegel29/ArtofStatistics/master/00-1-age-and-year-of-deathofharold-shipmans-victims/00-1-shipman-confirmed-victims-x.csv) and [here](https://raw.githubusercontent.com/dspiegel29/ArtofStatistics/master/00-2-shipman-times/00-2-shipman-times-x.csv)."
   ]
  },
  {
   "cell_type": "markdown",
   "metadata": {},
   "source": [
    "## Importing/Loading/Inspecting Dataset"
   ]
  },
  {
   "cell_type": "code",
   "execution_count": null,
   "metadata": {},
   "outputs": [],
   "source": [
    "# !wget https://raw.githubusercontent.com/dspiegel29/ArtofStatistics/master/00-1-age-and-year-of-deathofharold-shipmans-victims/00-1-shipman-confirmed-victims-x.csv -O ../data/shipman-confirmed-victims.csv"
   ]
  },
  {
   "cell_type": "code",
   "execution_count": null,
   "metadata": {},
   "outputs": [],
   "source": [
    "# !ls ../data"
   ]
  },
  {
   "cell_type": "code",
   "execution_count": null,
   "metadata": {},
   "outputs": [],
   "source": [
    "# !head -n 3 ../data/shipman-confirmed-victims.csv"
   ]
  },
  {
   "cell_type": "code",
   "execution_count": null,
   "metadata": {},
   "outputs": [],
   "source": [
    "cases_df = pd.read_csv('../data/shipman-confirmed-victims.csv', parse_dates=[\"DateofDeath\"])"
   ]
  },
  {
   "cell_type": "code",
   "execution_count": null,
   "metadata": {},
   "outputs": [],
   "source": [
    "cases_df.head()"
   ]
  },
  {
   "cell_type": "code",
   "execution_count": null,
   "metadata": {},
   "outputs": [],
   "source": [
    "cases_df = cases_df.rename(columns={ 'gender': 'gender_01'}).rename(columns={ 'gender2': 'gender' })\n",
    "cases_df.head()"
   ]
  },
  {
   "cell_type": "markdown",
   "metadata": {},
   "source": [
    "## Shipman's Confirmed Victims: Year of Death, Age, Gender"
   ]
  },
  {
   "cell_type": "code",
   "execution_count": null,
   "metadata": {},
   "outputs": [],
   "source": [
    "ax = sns.scatterplot(data=cases_df, x='fractionalDeathYear', y='Age', hue='gender', alpha=0.7)\n",
    "ax.set_title('Shipman\\'s Confirmed Victims: Year of Death Against Age, with Gender')\n",
    "ax.set_xlabel('Year of Death')\n",
    "ax.get_figure().savefig('../figures/shipman-cases-deathyear-age-gender.png', pad_inches = 0.1, bbox_inches='tight')"
   ]
  },
  {
   "cell_type": "code",
   "execution_count": null,
   "metadata": {},
   "outputs": [],
   "source": [
    "# !ls -lh ../figures/"
   ]
  },
  {
   "cell_type": "code",
   "execution_count": null,
   "metadata": {},
   "outputs": [],
   "source": [
    "# !open ../figures/shipman-cases-deathyear-age-gender.png"
   ]
  },
  {
   "cell_type": "markdown",
   "metadata": {},
   "source": [
    "## Shipman's Victims by Time of Day"
   ]
  },
  {
   "cell_type": "code",
   "execution_count": null,
   "metadata": {},
   "outputs": [],
   "source": [
    "# !wget https://raw.githubusercontent.com/dspiegel29/ArtofStatistics/master/00-2-shipman-times/00-2-shipman-times-x.csv -O ../data/shipman-comparison-times.csv"
   ]
  },
  {
   "cell_type": "code",
   "execution_count": null,
   "metadata": {},
   "outputs": [],
   "source": [
    "times_df = pd.read_csv('../data/shipman-comparison-times.csv', index_col='Hour')"
   ]
  },
  {
   "cell_type": "code",
   "execution_count": null,
   "metadata": {},
   "outputs": [],
   "source": [
    "times_df.head()"
   ]
  },
  {
   "cell_type": "code",
   "execution_count": null,
   "metadata": {},
   "outputs": [],
   "source": [
    "ax = times_df.plot.line()\n",
    "ax.set_title('Percentage of Deaths by Hour of Day: Shipman against Typical')\n",
    "ax.set_ylabel('Percentage of Deaths')\n",
    "fig = ax.get_figure()\n",
    "fig.savefig('../figures/shipman-time-percent.png', pad_inches = 0.1, bbox_inches='tight');"
   ]
  },
  {
   "cell_type": "code",
   "execution_count": null,
   "metadata": {},
   "outputs": [],
   "source": [
    "# !open ../figures/shipman-time-percent.png"
   ]
  }
 ],
 "metadata": {
  "kernelspec": {
   "display_name": "Python 3",
   "language": "python",
   "name": "python3"
  },
  "language_info": {
   "codemirror_mode": {
    "name": "ipython",
    "version": 3
   },
   "file_extension": ".py",
   "mimetype": "text/x-python",
   "name": "python",
   "nbconvert_exporter": "python",
   "pygments_lexer": "ipython3",
   "version": "3.7.3"
  },
  "toc": {
   "base_numbering": 1,
   "colors": {
    "hover_highlight": "#DAA520",
    "navigate_num": "#000000",
    "navigate_text": "#333333",
    "running_highlight": "#FF0000",
    "selected_highlight": "#FFD700",
    "sidebar_border": "#EEEEEE",
    "wrapper_background": "#FFFFFF"
   },
   "moveMenuLeft": true,
   "nav_menu": {
    "height": "61.9886px",
    "width": "251.989px"
   },
   "navigate_menu": true,
   "number_sections": true,
   "sideBar": true,
   "skip_h1_title": false,
   "threshold": 4,
   "title_cell": "Table of Contents",
   "title_sidebar": "Contents",
   "toc_cell": false,
   "toc_position": {},
   "toc_section_display": "block",
   "toc_window_display": false,
   "widenNotebook": false
  }
 },
 "nbformat": 4,
 "nbformat_minor": 2
}
