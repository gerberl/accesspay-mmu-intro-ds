{
 "cells": [
  {
   "cell_type": "markdown",
   "metadata": {
    "toc": "true"
   },
   "source": [
    "# Table of Contents\n",
    " <p><div class=\"lev2 toc-item\"><a href=\"#Exploring-and-Visualising-Data;-Dealing-with-Outliers-and-Missing-Data\" data-toc-modified-id=\"Exploring-and-Visualising-Data;-Dealing-with-Outliers-and-Missing-Data-01\"><span class=\"toc-item-num\">0.1&nbsp;&nbsp;</span>Exploring and Visualising Data; Dealing with Outliers and Missing Data</a></div><div class=\"lev2 toc-item\"><a href=\"#A-Couple-of-Plots-on-pima-and-gapminder\" data-toc-modified-id=\"A-Couple-of-Plots-on-pima-and-gapminder-02\"><span class=\"toc-item-num\">0.2&nbsp;&nbsp;</span>A Couple of Plots on <code>pima</code> and <code>gapminder</code></a></div><div class=\"lev2 toc-item\"><a href=\"#Univariate-Data-Distributions,-Missing-Values,-Outliers,-Plotting-With-seaborn\" data-toc-modified-id=\"Univariate-Data-Distributions,-Missing-Values,-Outliers,-Plotting-With-seaborn-03\"><span class=\"toc-item-num\">0.3&nbsp;&nbsp;</span>Univariate Data Distributions, Missing Values, Outliers, Plotting With <code>seaborn</code></a></div><div class=\"lev2 toc-item\"><a href=\"#Histograms,-Bin-Sizes,-KDE;-Subplots\" data-toc-modified-id=\"Histograms,-Bin-Sizes,-KDE;-Subplots-04\"><span class=\"toc-item-num\">0.4&nbsp;&nbsp;</span>Histograms, Bin Sizes, KDE; Subplots</a></div><div class=\"lev2 toc-item\"><a href=\"#Data-Distributions-and-Categories\" data-toc-modified-id=\"Data-Distributions-and-Categories-05\"><span class=\"toc-item-num\">0.5&nbsp;&nbsp;</span>Data Distributions and Categories</a></div><div class=\"lev2 toc-item\"><a href=\"#For-class,-labels-rather-than-0-and-1?\" data-toc-modified-id=\"For-class,-labels-rather-than-0-and-1?-06\"><span class=\"toc-item-num\">0.6&nbsp;&nbsp;</span>For <code>class</code>, labels rather than 0 and 1?</a></div><div class=\"lev2 toc-item\"><a href=\"#Bivariate-Distributions;-Inspecting-Possible-Relationships\" data-toc-modified-id=\"Bivariate-Distributions;-Inspecting-Possible-Relationships-07\"><span class=\"toc-item-num\">0.7&nbsp;&nbsp;</span>Bivariate Distributions; Inspecting Possible Relationships</a></div>"
   ]
  },
  {
   "cell_type": "markdown",
   "metadata": {},
   "source": [
    "## Exploring and Visualising Data; Dealing with Outliers and Missing Data"
   ]
  },
  {
   "cell_type": "code",
   "execution_count": null,
   "metadata": {},
   "outputs": [],
   "source": [
    "%matplotlib inline\n",
    "import matplotlib.pyplot as plt\n",
    "import matplotlib as mpl\n",
    "import numpy as np\n",
    "import pandas as pd\n",
    "import seaborn as sns\n",
    "sns.set()\n",
    "sns.set_context(\"notebook\")"
   ]
  },
  {
   "cell_type": "code",
   "execution_count": null,
   "metadata": {},
   "outputs": [],
   "source": [
    "mpl.rcParams['figure.figsize'] = (6.4*1.4, 4.8*1.4)"
   ]
  },
  {
   "cell_type": "markdown",
   "metadata": {},
   "source": [
    "Apart from the already seen Gapminder, we will also work with the well-known [Pima Indians Diabetes](https://www.kaggle.com/uciml/pima-indians-diabetes-database) dataset."
   ]
  },
  {
   "cell_type": "code",
   "execution_count": null,
   "metadata": {},
   "outputs": [],
   "source": [
    "pima_df = pd.read_csv('../data/pima-indians-diabetes.csv')\n",
    "pima_df.sample(3)"
   ]
  },
  {
   "cell_type": "code",
   "execution_count": null,
   "metadata": {},
   "outputs": [],
   "source": [
    "gm_df = pd.read_csv('../data/gapminder.tsv', sep='\\t')\n",
    "gm_df.sample(3)"
   ]
  },
  {
   "cell_type": "markdown",
   "metadata": {},
   "source": [
    "## A Couple of Plots on `pima` and `gapminder`"
   ]
  },
  {
   "cell_type": "code",
   "execution_count": null,
   "metadata": {},
   "outputs": [],
   "source": [
    "pima_df['class'].value_counts()"
   ]
  },
  {
   "cell_type": "code",
   "execution_count": null,
   "metadata": {},
   "outputs": [],
   "source": [
    "pima_df['class'].value_counts().plot.bar();"
   ]
  },
  {
   "cell_type": "code",
   "execution_count": null,
   "metadata": {},
   "outputs": [],
   "source": [
    "ax = pima_df['class'].value_counts().plot.bar()\n",
    "ax.set_xlabel('class (diabetic/non-diabetic)')\n",
    "ax.set_ylabel('count');"
   ]
  },
  {
   "cell_type": "code",
   "execution_count": null,
   "metadata": {},
   "outputs": [],
   "source": [
    "fig, ax = plt.subplots()\n",
    "fig.tight_layout()\n",
    "ax.set_xlabel('class (diabetic/non-diabetic)')\n",
    "ax.set_ylabel('count')\n",
    "pima_df['class'].value_counts().plot.bar(ax=ax);"
   ]
  },
  {
   "cell_type": "code",
   "execution_count": null,
   "metadata": {},
   "outputs": [],
   "source": [
    "gm_df.query('country==\"Afghanistan\"').set_index('year')['lifeExp'].plot.line();"
   ]
  },
  {
   "cell_type": "markdown",
   "metadata": {},
   "source": [
    "We haven't discussed `.set_index()` and `.query`?"
   ]
  },
  {
   "cell_type": "markdown",
   "metadata": {},
   "source": [
    "## Univariate Data Distributions, Missing Values, Outliers, Plotting With `seaborn`\n",
    "\n",
    "* also, sits on top of `matplotlib`, and one can make use of `Axes`'s and `Figure`'s underlying methods."
   ]
  },
  {
   "cell_type": "code",
   "execution_count": null,
   "metadata": {},
   "outputs": [],
   "source": [
    "sns.distplot(pima_df['pregnant']);"
   ]
  },
  {
   "cell_type": "code",
   "execution_count": null,
   "metadata": {},
   "outputs": [],
   "source": [
    "sns.distplot(pima_df['diastolic_bp']);"
   ]
  },
  {
   "cell_type": "code",
   "execution_count": null,
   "metadata": {},
   "outputs": [],
   "source": [
    "df = pima_df.loc[pima_df['diastolic_bp']>0]\n",
    "sns.distplot(df['diastolic_bp']);"
   ]
  },
  {
   "cell_type": "code",
   "execution_count": null,
   "metadata": {},
   "outputs": [],
   "source": [
    "sns.boxplot(pima_df['pregnant'])"
   ]
  },
  {
   "cell_type": "code",
   "execution_count": null,
   "metadata": {},
   "outputs": [],
   "source": [
    "pima_df.loc[ pima_df['pregnant']>=13 ]"
   ]
  },
  {
   "cell_type": "code",
   "execution_count": null,
   "metadata": {},
   "outputs": [],
   "source": [
    "pima_df['pregnant'].describe()"
   ]
  },
  {
   "cell_type": "code",
   "execution_count": null,
   "metadata": {},
   "outputs": [],
   "source": [
    "pima_df['pregnant'].value_counts(normalize=True)"
   ]
  },
  {
   "cell_type": "markdown",
   "metadata": {},
   "source": [
    "## Histograms, Bin Sizes, KDE; Subplots"
   ]
  },
  {
   "cell_type": "code",
   "execution_count": null,
   "metadata": {},
   "outputs": [],
   "source": [
    "sns.distplot(gm_df.loc[gm_df['year']==2007, 'lifeExp'])"
   ]
  },
  {
   "cell_type": "code",
   "execution_count": null,
   "metadata": {},
   "outputs": [],
   "source": [
    "# histograms with different bin sizes\n",
    "(_, axs) = plt.subplots(1, 3, figsize=(18,6), sharey=True)\n",
    "df = gm_df.loc[ gm_df['year'] == 2007 ]\n",
    "sns.distplot(df['lifeExp'], ax=axs[0])\n",
    "sns.distplot(df['lifeExp'], bins=np.arange(0, 101, 10), ax=axs[1])\n",
    "sns.distplot(df['lifeExp'], bins=np.arange(0, 101, 2), ax=axs[2])"
   ]
  },
  {
   "cell_type": "markdown",
   "metadata": {},
   "source": [
    "## Data Distributions and Categories"
   ]
  },
  {
   "cell_type": "code",
   "execution_count": null,
   "metadata": {},
   "outputs": [],
   "source": [
    "sns.boxplot(pima_df.loc[pima_df['plasma_glucose']>0, 'plasma_glucose'])"
   ]
  },
  {
   "cell_type": "code",
   "execution_count": null,
   "metadata": {},
   "outputs": [],
   "source": [
    "sns.boxplot(x='class', y='plasma_glucose', data=pima_df.loc[pima_df['plasma_glucose']>0])\n",
    "# sns.boxplot(x='class', y='plasma_glucose', data=pima_df)"
   ]
  },
  {
   "cell_type": "code",
   "execution_count": null,
   "metadata": {},
   "outputs": [],
   "source": [
    "sns.boxplot(x='year', y='lifeExp', data=gm_df)"
   ]
  },
  {
   "cell_type": "code",
   "execution_count": null,
   "metadata": {},
   "outputs": [],
   "source": [
    "sns.violinplot(pima_df['plasma_glucose'])"
   ]
  },
  {
   "cell_type": "code",
   "execution_count": null,
   "metadata": {},
   "outputs": [],
   "source": [
    "sns.violinplot(x='class', y='plasma_glucose', data=pima_df)"
   ]
  },
  {
   "cell_type": "code",
   "execution_count": null,
   "metadata": {},
   "outputs": [],
   "source": [
    "sns.violinplot(x='year', y='lifeExp', data=gm_df)"
   ]
  },
  {
   "cell_type": "code",
   "execution_count": null,
   "metadata": {},
   "outputs": [],
   "source": [
    "sns.stripplot(x='year', y='lifeExp', data=gm_df, hue='continent', jitter=True)"
   ]
  },
  {
   "cell_type": "code",
   "execution_count": null,
   "metadata": {},
   "outputs": [],
   "source": [
    "ax = sns.boxplot(x='year', y='lifeExp', data=gm_df)\n",
    "sns.stripplot(x='year', y='lifeExp', data=gm_df, hue='continent', jitter=True, ax=ax);"
   ]
  },
  {
   "cell_type": "markdown",
   "metadata": {},
   "source": [
    "## For `class`, labels rather than 0 and 1?"
   ]
  },
  {
   "cell_type": "code",
   "execution_count": null,
   "metadata": {},
   "outputs": [],
   "source": [
    "# transform attribute (integer to string) to make sure\n",
    "# that the numbers 0 and 1 are interpreted as nominal (rather than numeric)\n",
    "# df = pima_df\n",
    "pima_df['class_lbl'] = pima_df['class'].map({ 0: 'non-diabetic', 1: 'diabetic'})\n",
    "df = pima_df.loc[ pima_df['plasma_glucose']>0 ]\n",
    "df.head()"
   ]
  },
  {
   "cell_type": "code",
   "execution_count": null,
   "metadata": {},
   "outputs": [],
   "source": [
    "ax = sns.boxplot(x='plasma_glucose', y='class_lbl', data=df)\n",
    "sns.stripplot(x='plasma_glucose', y='class_lbl', data=df, jitter=True, ax=ax);"
   ]
  },
  {
   "cell_type": "markdown",
   "metadata": {},
   "source": [
    "## Bivariate Distributions; Inspecting Possible Relationships"
   ]
  },
  {
   "cell_type": "code",
   "execution_count": null,
   "metadata": {},
   "outputs": [],
   "source": [
    "sns.jointplot(x='triceps_sft', y='bmi', data=pima_df, alpha=0.3);"
   ]
  },
  {
   "cell_type": "code",
   "execution_count": null,
   "metadata": {},
   "outputs": [],
   "source": [
    "df = pima_df.loc[ pima_df['triceps_sft']>0 ]\n",
    "sns.jointplot(x='triceps_sft', y='bmi', data=df, alpha=0.3)"
   ]
  },
  {
   "cell_type": "code",
   "execution_count": null,
   "metadata": {},
   "outputs": [],
   "source": [
    "df = pima_df.loc[ pima_df['triceps_sft']>0 ]\n",
    "sns.jointplot(x='triceps_sft', y='bmi', data=df, alpha=0.3);"
   ]
  },
  {
   "cell_type": "code",
   "execution_count": null,
   "metadata": {},
   "outputs": [],
   "source": [
    "df = pima_df.loc[ pima_df['triceps_sft']>0 ]\n",
    "sns.jointplot(x='triceps_sft', y='bmi', data=df, kind=\"hex\");"
   ]
  },
  {
   "cell_type": "code",
   "execution_count": null,
   "metadata": {},
   "outputs": [],
   "source": [
    "pima_df.columns"
   ]
  },
  {
   "cell_type": "code",
   "execution_count": null,
   "metadata": {},
   "outputs": [],
   "source": [
    "# pairplot\n",
    "mask = (pima_df['plasma_glucose']>0) & (pima_df['diastolic_bp']>0) & (pima_df['triceps_sft']>0)\n",
    "df = pima_df.loc[ mask, [ 'bmi', 'diastolic_bp', 'triceps_sft', 'class_lbl' ] ]\n",
    "sns.pairplot(data=df, hue='class_lbl', height=3.5)"
   ]
  }
 ],
 "metadata": {
  "kernelspec": {
   "display_name": "Python 3",
   "language": "python",
   "name": "python3"
  },
  "language_info": {
   "codemirror_mode": {
    "name": "ipython",
    "version": 3
   },
   "file_extension": ".py",
   "mimetype": "text/x-python",
   "name": "python",
   "nbconvert_exporter": "python",
   "pygments_lexer": "ipython3",
   "version": "3.7.3"
  },
  "toc": {
   "colors": {
    "hover_highlight": "#DAA520",
    "navigate_num": "#000000",
    "navigate_text": "#333333",
    "running_highlight": "#FF0000",
    "selected_highlight": "#FFD700",
    "sidebar_border": "#EEEEEE",
    "wrapper_background": "#FFFFFF"
   },
   "moveMenuLeft": true,
   "nav_menu": {
    "height": "207.443px",
    "width": "251.989px"
   },
   "navigate_menu": true,
   "number_sections": false,
   "sideBar": true,
   "threshold": 4,
   "toc_cell": true,
   "toc_section_display": "block",
   "toc_window_display": false,
   "widenNotebook": false
  }
 },
 "nbformat": 4,
 "nbformat_minor": 2
}
