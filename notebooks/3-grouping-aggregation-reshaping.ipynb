{
 "cells": [
  {
   "cell_type": "markdown",
   "metadata": {
    "toc": "true"
   },
   "source": [
    "# Table of Contents\n",
    " <p><div class=\"lev1 toc-item\"><a href=\"#Grouping,-Aggregating,-and-Reshaping-Data\" data-toc-modified-id=\"Grouping,-Aggregating,-and-Reshaping-Data-1\"><span class=\"toc-item-num\">1&nbsp;&nbsp;</span>Grouping, Aggregating, and Reshaping Data</a></div><div class=\"lev2 toc-item\"><a href=\"#Discretising,-Grouping,-and-Bar-Charting-Groups\" data-toc-modified-id=\"Discretising,-Grouping,-and-Bar-Charting-Groups-11\"><span class=\"toc-item-num\">1.1&nbsp;&nbsp;</span>Discretising, Grouping, and Bar-Charting Groups</a></div><div class=\"lev2 toc-item\"><a href=\"#One-could-obtain-simple-aggregate-and-statistical-measures-with-methods-we-have-already-seen\" data-toc-modified-id=\"One-could-obtain-simple-aggregate-and-statistical-measures-with-methods-we-have-already-seen-12\"><span class=\"toc-item-num\">1.2&nbsp;&nbsp;</span>One could obtain simple aggregate and statistical measures with methods we have already seen</a></div><div class=\"lev2 toc-item\"><a href=\"#Grouping-DataFrames\" data-toc-modified-id=\"Grouping-DataFrames-13\"><span class=\"toc-item-num\">1.3&nbsp;&nbsp;</span>Grouping DataFrames</a></div><div class=\"lev2 toc-item\"><a href=\"#Exercises\" data-toc-modified-id=\"Exercises-14\"><span class=\"toc-item-num\">1.4&nbsp;&nbsp;</span>Exercises</a></div>"
   ]
  },
  {
   "cell_type": "markdown",
   "metadata": {},
   "source": [
    "# Grouping, Aggregating, and Reshaping Data"
   ]
  },
  {
   "cell_type": "code",
   "execution_count": null,
   "metadata": {},
   "outputs": [],
   "source": [
    "%matplotlib inline\n",
    "import matplotlib.pyplot as plt\n",
    "import matplotlib as mpl\n",
    "import numpy as np\n",
    "import pandas as pd\n",
    "import seaborn as sns\n",
    "sns.set()\n",
    "sns.set_context(\"notebook\")"
   ]
  },
  {
   "cell_type": "code",
   "execution_count": null,
   "metadata": {},
   "outputs": [],
   "source": [
    "mpl.rcParams['figure.figsize'] = (6.4*1.4, 4.8*1.4)"
   ]
  },
  {
   "cell_type": "code",
   "execution_count": null,
   "metadata": {},
   "outputs": [],
   "source": [
    "pima_df = pd.read_csv('../data/pima-indians-diabetes.csv')\n",
    "pima_df.sample(3)"
   ]
  },
  {
   "cell_type": "code",
   "execution_count": null,
   "metadata": {},
   "outputs": [],
   "source": [
    "gm_df = pd.read_csv('../data/gapminder.tsv', sep='\\t')\n",
    "gm_df.sample(3)"
   ]
  },
  {
   "cell_type": "markdown",
   "metadata": {},
   "source": [
    "## Discretising, Grouping, and Bar-Charting Groups "
   ]
  },
  {
   "cell_type": "code",
   "execution_count": null,
   "metadata": {},
   "outputs": [],
   "source": [
    "pima_df.head()"
   ]
  },
  {
   "cell_type": "code",
   "execution_count": null,
   "metadata": {},
   "outputs": [],
   "source": [
    "# discretising bmi\n",
    "# Underweight: BMI is less than 18.5.\n",
    "# Normal weight: BMI is 18.5 to 24.9.\n",
    "# Overweight: BMI is 25 to 29.9.\n",
    "# Obese: BMI is 30 or more.\n",
    "pima_df['bmi_lbl'] = \\\n",
    "    pd.cut(\n",
    "        pima_df['bmi'],\n",
    "        bins=[0,18.5,24.9,29.9,pima_df['bmi'].max()],\n",
    "        labels=['low', 'normal', 'overweight', 'obese'],\n",
    "        include_lowest=True\n",
    "    )\n",
    "pima_df.head(5)"
   ]
  },
  {
   "cell_type": "code",
   "execution_count": null,
   "metadata": {},
   "outputs": [],
   "source": [
    "pima_df['class'].value_counts()"
   ]
  },
  {
   "cell_type": "code",
   "execution_count": null,
   "metadata": {},
   "outputs": [],
   "source": [
    "pima_df.groupby(by=['class', 'bmi_lbl']).size()"
   ]
  },
  {
   "cell_type": "code",
   "execution_count": null,
   "metadata": {},
   "outputs": [],
   "source": [
    "pima_df.groupby(by=['class', 'bmi_lbl']).size().unstack()"
   ]
  },
  {
   "cell_type": "code",
   "execution_count": null,
   "metadata": {},
   "outputs": [],
   "source": [
    "pima_df.groupby(by=['class', 'bmi_lbl']).size().unstack().plot.bar()"
   ]
  },
  {
   "cell_type": "markdown",
   "metadata": {},
   "source": [
    "## One could obtain simple aggregate and statistical measures with methods we have already seen"
   ]
  },
  {
   "cell_type": "code",
   "execution_count": null,
   "metadata": {},
   "outputs": [],
   "source": [
    "gm_df['year'].count()"
   ]
  },
  {
   "cell_type": "code",
   "execution_count": null,
   "metadata": {},
   "outputs": [],
   "source": [
    "gm_df['lifeExp'].mean()"
   ]
  },
  {
   "cell_type": "code",
   "execution_count": null,
   "metadata": {},
   "outputs": [],
   "source": [
    "gm_df[ ['lifeExp', 'gdpPercap'] ].mean()"
   ]
  },
  {
   "cell_type": "code",
   "execution_count": null,
   "metadata": {},
   "outputs": [],
   "source": [
    "gm_df['continent'].value_counts()"
   ]
  },
  {
   "cell_type": "code",
   "execution_count": null,
   "metadata": {},
   "outputs": [],
   "source": [
    "gm_df['lifeExp'].describe()"
   ]
  },
  {
   "cell_type": "code",
   "execution_count": null,
   "metadata": {},
   "outputs": [],
   "source": [
    "# format strings: https://docs.python.org/3.6/library/string.html#formatstrings\n",
    "'{:,d}'.format(gm_df.loc[ gm_df['year']==2007, 'pop'].sum())"
   ]
  },
  {
   "cell_type": "markdown",
   "metadata": {},
   "source": [
    "## Grouping DataFrames"
   ]
  },
  {
   "cell_type": "code",
   "execution_count": null,
   "metadata": {},
   "outputs": [],
   "source": [
    "# one partition is produced for each distinct value of `continent`.\n",
    "# size() is a method on a groupBy object that returns the size\n",
    "# (number of rows) of a partition\n",
    "gm_df.groupby('continent').size()"
   ]
  },
  {
   "cell_type": "code",
   "execution_count": null,
   "metadata": {},
   "outputs": [],
   "source": [
    "# have a look at the split-apply-combine diagram in the Python Data Science Handbook\n",
    "# https://jakevdp.github.io/PythonDataScienceHandbook/03.08-aggregation-and-grouping.html#Split,-apply,-combine"
   ]
  },
  {
   "cell_type": "code",
   "execution_count": null,
   "metadata": {},
   "outputs": [],
   "source": [
    "# this is what a grouping object is\n",
    "groupings = gm_df.groupby('country')\n",
    "groupings"
   ]
  },
  {
   "cell_type": "code",
   "execution_count": null,
   "metadata": {},
   "outputs": [],
   "source": [
    "groupings.get_group('Argentina')"
   ]
  },
  {
   "cell_type": "code",
   "execution_count": null,
   "metadata": {},
   "outputs": [],
   "source": [
    "# just for teaching/learning purposes, we could iterate through the results\n",
    "i = iter(groupings)\n",
    "g = next(i)\n",
    "g"
   ]
  },
  {
   "cell_type": "code",
   "execution_count": null,
   "metadata": {},
   "outputs": [],
   "source": [
    "g[0]"
   ]
  },
  {
   "cell_type": "code",
   "execution_count": null,
   "metadata": {},
   "outputs": [],
   "source": [
    "g[1]"
   ]
  },
  {
   "cell_type": "code",
   "execution_count": null,
   "metadata": {},
   "outputs": [],
   "source": [
    "# thanks to some hard work by the `pandas` community, one can pass on calls\n",
    "# to DataFrame methods to each partition by simply chaining them\n",
    "groupings['lifeExp'].mean().head()"
   ]
  },
  {
   "cell_type": "code",
   "execution_count": null,
   "metadata": {},
   "outputs": [],
   "source": [
    "groupings['lifeExp'].mean().sample(5)"
   ]
  },
  {
   "cell_type": "code",
   "execution_count": null,
   "metadata": {},
   "outputs": [],
   "source": [
    "groupings['lifeExp'].min().sample(5)"
   ]
  },
  {
   "cell_type": "code",
   "execution_count": null,
   "metadata": {},
   "outputs": [],
   "source": [
    "gm_df.loc[ gm_df['country']=='Kenya' ]"
   ]
  },
  {
   "cell_type": "code",
   "execution_count": null,
   "metadata": {},
   "outputs": [],
   "source": [
    "# more than one grouping attribute\n",
    "gm_df.groupby(['continent', 'year'])[['lifeExp']].mean().head(20)"
   ]
  },
  {
   "cell_type": "code",
   "execution_count": null,
   "metadata": {},
   "outputs": [],
   "source": [
    "mask = (gm_df['year']==2007) & (gm_df['continent'].isin(['Africa', 'Americas' ]))\n",
    "gm_df.loc[mask, 'lifeExp'].mean()"
   ]
  },
  {
   "cell_type": "code",
   "execution_count": null,
   "metadata": {},
   "outputs": [],
   "source": [
    "# more than one grouping attribute and more than one column\n",
    "gm_df.groupby(['continent', 'year'])[['lifeExp', 'gdpPercap']].mean().head(20)"
   ]
  },
  {
   "cell_type": "code",
   "execution_count": null,
   "metadata": {},
   "outputs": [],
   "source": [
    "# more than one aggregate?\n",
    "df = gm_df.groupby('year').agg({'lifeExp': ['min', 'max', 'mean'] })\n",
    "df"
   ]
  },
  {
   "cell_type": "code",
   "execution_count": null,
   "metadata": {},
   "outputs": [],
   "source": [
    "# a quick look at indexing a column hierarchical index...\n",
    "df['lifeExp', 'min']"
   ]
  },
  {
   "cell_type": "code",
   "execution_count": null,
   "metadata": {},
   "outputs": [],
   "source": [
    "# different columns and aggregate functions\n",
    "gm_df.groupby('continent').agg({'lifeExp': 'min', 'gdpPercap': 'max'}).head()"
   ]
  },
  {
   "cell_type": "code",
   "execution_count": null,
   "metadata": {},
   "outputs": [],
   "source": [
    "# combining operations for comparative data science\n",
    "df_2007_1952_americas = gm_df.loc[\n",
    "    (gm_df['continent']=='Americas') & (gm_df['year'].isin([2007, 1952]))\n",
    "]\n",
    "df_2007_1952_americas.head()"
   ]
  },
  {
   "cell_type": "code",
   "execution_count": null,
   "metadata": {},
   "outputs": [],
   "source": [
    "df_2007_1952_americas.groupby('year')[ ['lifeExp','gdpPercap'] ].mean()"
   ]
  },
  {
   "cell_type": "code",
   "execution_count": null,
   "metadata": {},
   "outputs": [],
   "source": [
    "df = df_2007_1952_americas.groupby('year')[ ['lifeExp','gdpPercap'] ].mean()\n",
    "df"
   ]
  },
  {
   "cell_type": "code",
   "execution_count": null,
   "metadata": {},
   "outputs": [],
   "source": [
    "# transposition: useful for comparing groups\n",
    "df.T"
   ]
  },
  {
   "cell_type": "code",
   "execution_count": null,
   "metadata": {},
   "outputs": [],
   "source": [
    "df_2007_vs_1952 = df.T\n",
    "df_2007_vs_1952"
   ]
  },
  {
   "cell_type": "code",
   "execution_count": null,
   "metadata": {},
   "outputs": [],
   "source": [
    "(df_2007_vs_1952[2007]-df_2007_vs_1952[1952])/df_2007_vs_1952[1952]*100"
   ]
  },
  {
   "cell_type": "markdown",
   "metadata": {},
   "source": [
    "## Exercises\n",
    "\n",
    "We'll make use of `seaborn`'s `titanic` dataset; write expressions that compute the information required by the queries below."
   ]
  },
  {
   "cell_type": "code",
   "execution_count": null,
   "metadata": {},
   "outputs": [],
   "source": [
    "# the titanic dataset is built into `seaborn`.\n",
    "# The Kaggle website provides some information on it:\n",
    "# https://www.kaggle.com/c/titanic/data\n",
    "titanic_df = sns.load_dataset('titanic')\n",
    "titanic_df.head()"
   ]
  },
  {
   "cell_type": "code",
   "execution_count": null,
   "metadata": {},
   "outputs": [],
   "source": [
    "len(titanic_df.loc[ titanic_df['deck'].isnull(), 'deck'])"
   ]
  },
  {
   "cell_type": "code",
   "execution_count": null,
   "metadata": {},
   "outputs": [],
   "source": [
    "# what is total number of passangers by sex?\n"
   ]
  },
  {
   "cell_type": "code",
   "execution_count": null,
   "metadata": {},
   "outputs": [],
   "source": [
    "# what is the number of passangers by port of embarkment?\n"
   ]
  },
  {
   "cell_type": "code",
   "execution_count": null,
   "metadata": {},
   "outputs": [],
   "source": [
    "# what is the mean age by sex?\n"
   ]
  },
  {
   "cell_type": "code",
   "execution_count": null,
   "metadata": {},
   "outputs": [],
   "source": [
    "# how many passengers travelled alone, by sex?\n"
   ]
  },
  {
   "cell_type": "code",
   "execution_count": null,
   "metadata": {},
   "outputs": [],
   "source": [
    "# what is the mean fare value by class?\n"
   ]
  },
  {
   "cell_type": "code",
   "execution_count": null,
   "metadata": {},
   "outputs": [],
   "source": [
    "# how many passengers survived and died, by class?\n"
   ]
  },
  {
   "cell_type": "code",
   "execution_count": null,
   "metadata": {},
   "outputs": [],
   "source": [
    "# how many passengers survived and died, by sex?\n"
   ]
  },
  {
   "cell_type": "code",
   "execution_count": null,
   "metadata": {},
   "outputs": [],
   "source": [
    "# what are the highest values for `sibsp` (number of siblings/spouses) and \n",
    "# `parch` (number of parents/children)\n",
    "# by sex?\n"
   ]
  },
  {
   "cell_type": "code",
   "execution_count": null,
   "metadata": {},
   "outputs": [],
   "source": [
    "# compare the average fear paid by men and women, broken down in\n",
    "# the three different classes\n"
   ]
  }
 ],
 "metadata": {
  "kernelspec": {
   "display_name": "Python 3",
   "language": "python",
   "name": "python3"
  },
  "language_info": {
   "codemirror_mode": {
    "name": "ipython",
    "version": 3
   },
   "file_extension": ".py",
   "mimetype": "text/x-python",
   "name": "python",
   "nbconvert_exporter": "python",
   "pygments_lexer": "ipython3",
   "version": "3.7.3"
  },
  "toc": {
   "colors": {
    "hover_highlight": "#DAA520",
    "navigate_num": "#000000",
    "navigate_text": "#333333",
    "running_highlight": "#FF0000",
    "selected_highlight": "#FFD700",
    "sidebar_border": "#EEEEEE",
    "wrapper_background": "#FFFFFF"
   },
   "moveMenuLeft": true,
   "nav_menu": {
    "height": "116.534px",
    "width": "251.989px"
   },
   "navigate_menu": true,
   "number_sections": false,
   "sideBar": true,
   "threshold": 4,
   "toc_cell": true,
   "toc_section_display": "block",
   "toc_window_display": false,
   "widenNotebook": false
  }
 },
 "nbformat": 4,
 "nbformat_minor": 2
}
